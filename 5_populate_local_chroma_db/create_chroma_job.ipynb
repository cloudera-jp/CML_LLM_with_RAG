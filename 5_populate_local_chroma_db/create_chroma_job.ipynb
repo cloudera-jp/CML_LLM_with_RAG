{
 "cells": [
  {
   "cell_type": "markdown",
   "metadata": {
    "tags": []
   },
   "source": [
    "# 5. CML API を使って Chroma ベクターDBを作成するジョブを定義する\n",
    "\n",
    "演習2では、依存ジョブの作成を手動で行いました。 この演習では、同じことを CML APIv2 を使って行います。  \n",
    "CML API を使用する利点は、ジョブの作成・実行のためのプログラム的なアプローチをとれることです。\n",
    "ジョブを作成するためにcmlapiライブラリを使用すると、自動化、バージョン管理、再現性、統合、スケーラビリティ、エラー処理、ジョブ管理を効率化でき、データ処理のワークフローを合理化するという点で有益です。\n",
    "\n",
    "![Populate Chroma architecture](../assets/exercise_5.png)"
   ]
  },
  {
   "cell_type": "markdown",
   "metadata": {},
   "source": [
    "#### 5.1 インポートの宣言、CML API クライアントの作成、利用可能なランタイムの一覧表示\n",
    "\n",
    "- 必要なモジュールのインポート\n",
    "- コレクション名の定義\n",
    "- CML クライアントの初期化、特定の 条件に合致する利用可能なランタイムのリストの取得、利用可能なランタイムの一覧表示"
   ]
  },
  {
   "cell_type": "code",
   "execution_count": 1,
   "metadata": {
    "tags": []
   },
   "outputs": [],
   "source": [
    "import os\n",
    "import cmlapi\n",
    "import random\n",
    "import string\n",
    "import json\n",
    "\n",
    "COLLECTION_NAME = 'cml-default' ## Update if you have changed this\n",
    "    \n",
    "client = cmlapi.default_client(url=os.getenv(\"CDSW_API_URL\").replace(\"/api/v1\", \"\"), cml_api_key=os.getenv(\"CDSW_APIV2_KEY\"))\n",
    "available_runtimes = client.list_runtimes(search_filter=json.dumps({\n",
    "    \"kernel\": \"Python 3.10\",\n",
    "    \"edition\": \"Nvidia GPU\",\n",
    "    \"editor\": \"JupyterLab\"\n",
    "}))"
   ]
  },
  {
   "cell_type": "markdown",
   "metadata": {},
   "source": [
    "#### 5.2 最新のMLランタイム識別子を取得し、環境変数に保存する"
   ]
  },
  {
   "cell_type": "code",
   "execution_count": 2,
   "metadata": {
    "tags": []
   },
   "outputs": [
    {
     "name": "stdout",
     "output_type": "stream",
     "text": [
      "{'description': 'Python runtime with CUDA libraries provided by Cloudera',\n",
      " 'edition': 'Nvidia GPU',\n",
      " 'editor': 'JupyterLab',\n",
      " 'full_version': '2024.02.1-b4',\n",
      " 'image_identifier': 'docker.repository.cloudera.com/cloudera/cdsw/ml-runtime-jupyterlab-python3.10-cuda:2024.02.1-b4',\n",
      " 'kernel': 'Python 3.10',\n",
      " 'register_user_id': 0,\n",
      " 'status': 'ENABLED'}\n",
      "docker.repository.cloudera.com/cloudera/cdsw/ml-runtime-jupyterlab-python3.10-cuda:2024.02.1-b4\n"
     ]
    }
   ],
   "source": [
    "## 利用可能なランタイムを環境の最新のランタイムに設定する (イテレータは0から始まり、順次進む番号です)\n",
    "## JOB_IMAGE_ML_RUNTIME 変数には、ジョブの起動に使われるMLランタイムを格納します。\n",
    "print(available_runtimes.runtimes[0])\n",
    "print(available_runtimes.runtimes[0].image_identifier)\n",
    "JOB_IMAGE_ML_RUNTIME = available_runtimes.runtimes[0].image_identifier\n",
    "\n",
    "## ランタイムを環境変数に保存します\n",
    "## こうすることで、何度もランタイムを取得しなおす必要がなくなります\n",
    "os.environ['JOB_IMAGE_ML_RUNTIME'] = JOB_IMAGE_ML_RUNTIME"
   ]
  },
  {
   "cell_type": "markdown",
   "metadata": {},
   "source": [
    "#### 5.3 現在のプロジェクトを取得\n",
    "現在のプロジェクトのメタデータを取得し表示します"
   ]
  },
  {
   "cell_type": "code",
   "execution_count": 3,
   "metadata": {
    "tags": []
   },
   "outputs": [],
   "source": [
    "# 現在のプロジェクトの識別子を表示\n",
    "project = client.get_project(project_id=os.getenv(\"CDSW_PROJECT_ID\"))"
   ]
  },
  {
   "cell_type": "markdown",
   "metadata": {},
   "source": [
    "#### 5.4 Chroma DB を作成するジョブの作成と実行\n",
    "\n",
    "このコードは、ランダムな識別子を生成し、プロジェクトID、スクリプト、リソース割り当てなどの指定されたパラメータを使用して、Chroma Vectorデータベースに入力るためのジョブリクエストを作成します。  \n",
    "その後、Cloudera Machine Learning環境内でジョブと対応するジョブの実行を作成し、ベクトルDBにデータを入力するタスクを開始します。"
   ]
  },
  {
   "cell_type": "code",
   "execution_count": 4,
   "metadata": {
    "tags": []
   },
   "outputs": [],
   "source": [
    "random_id=''.join(random.choice(string.ascii_lowercase) for i in range(10))\n",
    "job_body = cmlapi.CreateJobRequest(\n",
    "    project_id = project.id,\n",
    "    name = \"Populate Chroma Vector DB \" + random_id, \n",
    "    script = \"5_populate_local_chroma_db/populate_chroma_vectors.py\",\n",
    "    cpu = 1,\n",
    "    memory = 4,\n",
    "    runtime_identifier = os.getenv('JOB_IMAGE_ML_RUNTIME')\n",
    ")\n",
    "\n",
    "job_result = client.create_job(\n",
    "    body = job_body, \n",
    "    project_id = str(project.id)\n",
    ")\n",
    "\n",
    "job_run = client.create_job_run(\n",
    "    cmlapi.CreateJobRunRequest(),\n",
    "    project_id = project.id, \n",
    "    job_id = job_result.id\n",
    ")"
   ]
  }
 ],
 "metadata": {
  "kernelspec": {
   "display_name": "Python 3 (ipykernel)",
   "language": "python",
   "name": "python3"
  },
  "language_info": {
   "codemirror_mode": {
    "name": "ipython",
    "version": 3
   },
   "file_extension": ".py",
   "mimetype": "text/x-python",
   "name": "python",
   "nbconvert_exporter": "python",
   "pygments_lexer": "ipython3",
   "version": "3.10.13"
  }
 },
 "nbformat": 4,
 "nbformat_minor": 4
}
