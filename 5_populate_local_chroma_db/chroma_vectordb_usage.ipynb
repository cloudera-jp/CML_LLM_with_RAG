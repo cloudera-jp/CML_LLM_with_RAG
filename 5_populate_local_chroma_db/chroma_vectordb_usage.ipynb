{
 "cells": [
  {
   "cell_type": "markdown",
   "id": "47c23c71",
   "metadata": {},
   "source": [
    "## Chroma Vector DB の使い方\n",
    "#### 前提条件: create_chroma_job.ipynb から、populate_chroma_vectors.py の実行が終わっていること。\n",
    "講習では、このプロセスは講師が事前に実行しています。"
   ]
  },
  {
   "cell_type": "markdown",
   "id": "2717c30b",
   "metadata": {},
   "source": [
    "#### 5.1 Chroma Vector DB のコネクションを初期化"
   ]
  },
  {
   "cell_type": "code",
   "execution_count": null,
   "id": "b331a3ae-f63b-47c1-bfae-6e1efc5062b9",
   "metadata": {
    "tags": []
   },
   "outputs": [],
   "source": [
    "## Chroma DB サーバーとの接続を初期化\n",
    "import chromadb\n",
    "import os\n",
    "\n",
    "## CMLの中から呼び出すために、以下のコードを利用\n",
    "chroma_client = chromadb.PersistentClient(path=\"/home/cdsw/chroma-data\")"
   ]
  },
  {
   "cell_type": "markdown",
   "id": "fd98c00c",
   "metadata": {},
   "source": [
    "#### 5.2 Chroma DB の ベクターコレクションと、オブジェクトの数を取得\n",
    "以下のコードでは、Chroma DBへの接続を初期化します。  \n",
    "使用するエンべディングモデルを定義し、コレクション名を'cml-default'と指定し、指定された埋め込み関数でそのコレクションの取得や作成を行います。  \n",
    "最後に、Chroma DBのインデックスに含まれるエンベディングの総数を取得・表示し、コレクションの統計情報を表示します。"
   ]
  },
  {
   "cell_type": "code",
   "execution_count": null,
   "id": "c4b448f4-877d-4854-9c17-9247441b5b4f",
   "metadata": {
    "tags": []
   },
   "outputs": [],
   "source": [
    "from chromadb.utils import embedding_functions\n",
    "\n",
    "EMBEDDING_MODEL_REPO = \"sentence-transformers/all-mpnet-base-v2\"\n",
    "EMBEDDING_MODEL_NAME = \"all-mpnet-base-v2\"\n",
    "EMBEDDING_FUNCTION = embedding_functions.SentenceTransformerEmbeddingFunction(model_name=EMBEDDING_MODEL_NAME)\n",
    "\n",
    "COLLECTION_NAME = 'cml-default'\n",
    "\n",
    "print(\"Chroma DB との接続を初期化しています ...\")\n",
    "\n",
    "print(f\"'{COLLECTION_NAME}' をオブジェクトとして取得しています...\")\n",
    "try:\n",
    "    chroma_client.get_collection(name=COLLECTION_NAME, embedding_function=EMBEDDING_FUNCTION)\n",
    "    print(\"Success\")\n",
    "    collection = chroma_client.get_collection(name=COLLECTION_NAME, embedding_function=EMBEDDING_FUNCTION)\n",
    "except:\n",
    "    print(\"新規の接続を作成しています...\")\n",
    "    collection = chroma_client.create_collection(name=COLLECTION_NAME, embedding_function=EMBEDDING_FUNCTION)\n",
    "    print(\"Success\")\n",
    "\n",
    "# 最新の統計情報を表示\n",
    "current_collection_stats = collection.count()\n",
    "print('Chroma DB の index 内のエンべディング数 : ' + str(current_collection_stats))"
   ]
  },
  {
   "cell_type": "markdown",
   "id": "75b86cf4",
   "metadata": {},
   "source": [
    "#### 5.3 複数の属性を指定してChromaにベクトルを入力するサンプルデモ\n",
    "\n",
    "ここでは、指定されたテキスト、分類(classification)、ファイルパスを使用して、関連するメタデータと一意のIDを持つサンプルドキュメントを、ベクトル検索のためにChromaベクトルデータベースコレクションに追加します。"
   ]
  },
  {
   "cell_type": "code",
   "execution_count": null,
   "id": "9e0835b3-87e3-4d67-abe2-6c6538f8f488",
   "metadata": {
    "tags": []
   },
   "outputs": [],
   "source": [
    "## !!! このコードは、ハンズオンの中では実行しないでください !!! ###\n",
    "\n",
    "## Chroma vector DB にデータを追加する例 \n",
    "file_path = '/example/of/file/path/to/doc.txt'\n",
    "classification = \"public\"\n",
    "text = \"これはベクトルDBに格納する文章のサンプルです。\"\n",
    "\n",
    "collection.add(\n",
    "    documents=[text],\n",
    "    metadatas=[{\"classification\": classification}],\n",
    "    ids=[file_path]\n",
    ")"
   ]
  },
  {
   "cell_type": "code",
   "execution_count": null,
   "id": "ee0b67d4",
   "metadata": {},
   "outputs": [],
   "source": [
    "## 上記のセルを誤って実行してしまった場合は、こちらのセルを実行してください。\n",
    "\n",
    "# 削除したいIDを指定\n",
    "id_to_delete = '/example/of/file/path/to/doc.txt'\n",
    "\n",
    "# IDに関連付けられたレコードを削除\n",
    "delete_response = collection.delete(ids=[id_to_delete])\n",
    "\n",
    "# 削除結果を確認\n",
    "print(delete_response)"
   ]
  },
  {
   "cell_type": "markdown",
   "id": "1193156d",
   "metadata": {},
   "source": [
    "#### 5.4 Chromaでベクトルをクエリし、メタデータを使ってノイズを減らすサンプルデモ\n",
    "\n",
    "このコードは、サンプルのクエリテキストを使用してChromaベクトルデータベースのセマンティック検索（＝ベクトルが近いものを取得することで、結果として意味が近いものを取得する）を実行し、最も類似した2つの結果を取得します。  \n",
    "メタデータによるフィルタを指定することにより、検索結果をさらに絞り込みでき、より正確でコンテキストを考慮したクエリを可能にします。"
   ]
  },
  {
   "cell_type": "code",
   "execution_count": null,
   "id": "a5448a26",
   "metadata": {
    "tags": []
   },
   "outputs": [],
   "source": [
    "## Chroma vector DB をクエリする\n",
    "## このクエリは、最も意味が近いふたつのベクトルを取得します。\n",
    "results = collection.query(\n",
    "    query_texts=[\"Apache Iceberg って何ですか?\"],\n",
    "    n_results=2\n",
    "    # where={\"metadata_field\": \"is_equal_to_this\"}, # メタデータによる絞り込みの例（任意）\n",
    "    # where_document={\"$contains\":\"search_string\"}  # 〃\n",
    ")\n",
    "print(results)"
   ]
  },
  {
   "cell_type": "markdown",
   "id": "eb4ac300",
   "metadata": {},
   "source": [
    "#### 5.5 Chromaを使用してローカルファイルシステム内のオリジナルファイル（完全なファイル）にマッピングした結果\n",
    "\n",
    "このコードでは、ヘルパー関数load_context_chunk_from_dataを定義し、ファイルパス（ID）に基づいて知識ベースドキュメントのコンテンツを取得しています。\n",
    "検索結果を繰り返し実行して、ファイルパス、分類、ドキュメントのスニペット、ファイルからロードされた完全なドキュメントコンテンツなど、各結果に関する情報を表示し、検索結果の詳細な表示を提供します。"
   ]
  },
  {
   "cell_type": "code",
   "execution_count": null,
   "id": "c30e5a6a-265b-4fa6-ae37-f5f38fe6296c",
   "metadata": {
    "tags": []
   },
   "outputs": [],
   "source": [
    "# ナレッジベースをID（ファイルパス）に基づいて取得するためのヘルパー関数\n",
    "def load_context_chunk_from_data(id_path):\n",
    "    with open(id_path, \"r\") as f: # 読み込みモードでファイルを開く\n",
    "        return f.read()\n",
    "    \n",
    "## ファイルの表示\n",
    "for i in range(len(results['ids'][0])):\n",
    "    file_path = results['ids'][0][i]\n",
    "    classification = results['metadatas'][0][i]['classification']\n",
    "    document = results['documents'][0][i]\n",
    "    \n",
    "    print(\"------------- 結果 \" + str(i+1) + \" ----------------\\n\")\n",
    "    print(f\"ファイルパス: {file_path}\")\n",
    "    print(f\"分類: {classification}\")\n",
    "    print(f\"ドキュメント: {document}\\n\")\n",
    "    print(f\"ドキュメント全文 (ファイルより取得): {load_context_chunk_from_data(file_path)}\\n\")\n"
   ]
  }
 ],
 "metadata": {
  "kernelspec": {
   "display_name": "Python 3 (ipykernel)",
   "language": "python",
   "name": "python3"
  },
  "language_info": {
   "codemirror_mode": {
    "name": "ipython",
    "version": 3
   },
   "file_extension": ".py",
   "mimetype": "text/x-python",
   "name": "python",
   "nbconvert_exporter": "python",
   "pygments_lexer": "ipython3",
   "version": "3.10.13"
  }
 },
 "nbformat": 4,
 "nbformat_minor": 5
}
