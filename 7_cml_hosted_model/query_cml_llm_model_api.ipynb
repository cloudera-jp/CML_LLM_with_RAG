{
 "cells": [
  {
   "cell_type": "markdown",
   "id": "be8ae8b8",
   "metadata": {
    "tags": []
   },
   "source": [
    "# 7. デプロイ済みのCMLモデルを利用する二つの方法\n",
    "\n",
    "CML でホストされたモデルを利用するには、二つの方法があります。\n",
    "一つは cmlapi ライブラリを利用する方法です。これは、[APIv2インターフェース](https://docs.cloudera.com/machine-learning/1.5.4/rest-api-reference/index.html#/CMLService)の Python ラッパーです。\n",
    "もうひとつの方法は、HTTPリクエストを直接投げることです。\n",
    "\n",
    "どちらの方法でも、呼び出し元の認証を容易にし、メッセージ交換形式として JSON を使用できます。\n",
    "\n",
    "このノートブックでは、cmlapi 経由で必要な変数を収集した上で、requests Python パッケージを使用してモデルエンドポイントにリクエストを行っています。"
   ]
  },
  {
   "cell_type": "markdown",
   "id": "02ec823e-464f-4c23-9e0e-fd5b207059b9",
   "metadata": {},
   "source": [
    "### 7.1 CML client を起動する\n",
    "CMLの API に関する詳細なドキュメントは、 [こちら](https://docs.cloudera.com/machine-learning/cloud/api/topics/ml-apiv2-usage-examples.html) を参照してください。"
   ]
  },
  {
   "cell_type": "code",
   "execution_count": null,
   "id": "765055d6",
   "metadata": {
    "tags": []
   },
   "outputs": [],
   "source": [
    "import cmlapi\n",
    "import json\n",
    "import sys\n",
    "import os\n",
    "client = cmlapi.default_client(url=os.getenv(\"CDSW_API_URL\").replace(\"/api/v1\", \"\"), cml_api_key=os.getenv(\"CDSW_APIV2_KEY\"))\n",
    "client.list_projects()"
   ]
  },
  {
   "cell_type": "markdown",
   "id": "3468ad3d",
   "metadata": {},
   "source": [
    "### 7.2 CML プロジェクトの検索\n",
    "\n",
    "このハンズオンでは、今このファイルがあるプロジェクトとは別のプロジェクトでモデルをホストしています。\n",
    "その（モデルをホストしているほうの）プロジェクトIDを、名前で検索して取得することができます。"
   ]
  },
  {
   "cell_type": "code",
   "execution_count": null,
   "id": "3f6347b8",
   "metadata": {
    "tags": []
   },
   "outputs": [],
   "source": [
    "## プロジェクトの中にモデルがひとつだけデプロイされていることを想定したコードです。\n",
    "## 複数のモデルがある場合は、project.projects[x] のインデックスを調整します。\n",
    "\n",
    "projects = client.list_projects(include_public_projects=True, search_filter=json.dumps({\"name\": \"LLM_local_model\"}))\n",
    "project = projects.projects[0]\n",
    "print(project)"
   ]
  },
  {
   "cell_type": "markdown",
   "id": "072420cf",
   "metadata": {},
   "source": [
    "### 7.3 CML モデルのアクセスキーを取得し、環境変数に保管する"
   ]
  },
  {
   "cell_type": "code",
   "execution_count": 3,
   "id": "ed0db1b1-3b7c-4f3d-9940-b97866034d6f",
   "metadata": {
    "tags": []
   },
   "outputs": [],
   "source": [
    "## プロジェクトの中にモデルがひとつだけデプロイされていることを想定したコードです。\n",
    "## 複数のモデルがある場合は、 model.models[x] のインデックスを調整します。\n",
    "model = client.list_models(project_id=project.id)\n",
    "selected_model = model.models[0]\n",
    "\n",
    "## モデルのアクセスキーを、このプロジェクトの環境変数として保存します。\n",
    "os.environ[\"MODEL_ACCESS_KEY\"] = selected_model.access_key"
   ]
  },
  {
   "cell_type": "code",
   "execution_count": null,
   "id": "ccaef170-0938-43af-8e05-8cb5f8b8964f",
   "metadata": {},
   "outputs": [],
   "source": [
    "# モデルのアクセスキーを表示（確認用）\n",
    "os.environ[\"MODEL_ACCESS_KEY\"]"
   ]
  },
  {
   "cell_type": "markdown",
   "id": "e68ec55e-5a94-4b58-97fc-8abb668d2b83",
   "metadata": {
    "tags": []
   },
   "source": [
    "### 7.5 リクエスト用のモデルのエンドポイントを生成する\n",
    "取得した環境変数を編集して、リクエスト用のモデルのエンドポイントを作成します。"
   ]
  },
  {
   "cell_type": "code",
   "execution_count": 5,
   "id": "16fbf297",
   "metadata": {
    "tags": []
   },
   "outputs": [],
   "source": [
    "MODEL_ENDPOINT = os.getenv(\"CDSW_API_URL\").replace(\"https://\", \"https://modelservice.\").replace(\"/api/v1\", \"/model?accessKey=\")\n",
    "MODEL_ENDPOINT = MODEL_ENDPOINT + os.environ[\"MODEL_ACCESS_KEY\"]\n",
    "os.environ[\"MODEL_ENDPOINT\"] = MODEL_ENDPOINT"
   ]
  },
  {
   "cell_type": "code",
   "execution_count": null,
   "id": "8d335f8b-e77d-44f4-9410-3f9b3cc957e4",
   "metadata": {},
   "outputs": [],
   "source": [
    "# モデルのエンドポイントを表示（確認用）\n",
    "os.environ[\"MODEL_ENDPOINT\"]"
   ]
  },
  {
   "cell_type": "markdown",
   "id": "de3cc91e",
   "metadata": {},
   "source": [
    "### 7.6 モデルへのリクエストを作成する\n",
    "最後に、上記の変数を使って実際にリクエストを投げてみましょう。"
   ]
  },
  {
   "cell_type": "code",
   "execution_count": null,
   "id": "2e367ac4-5e1c-4aba-9ce1-60113f4c7fbf",
   "metadata": {
    "tags": []
   },
   "outputs": [],
   "source": [
    "import requests\n",
    "import json\n",
    "import os\n",
    "\n",
    "## 変数の設定\n",
    "temperature = 0.01\n",
    "token_count = 150\n",
    "\n",
    "## モデルに聞く質問を設定\n",
    "question = \"りんごの色は何色ですか？\"\n",
    "context = \"知っている知識の範囲で回答し、知らない場合は「知らない」と回答してください。日本語でお願いします。\"\n",
    "\n",
    "question_and_context = question + context\n",
    "\n",
    "data={ \"request\": {\"prompt\":question_and_context,\"temperature\":temperature,\"max_new_tokens\":token_count,\"repetition_penalty\":1.0} }\n",
    "\n",
    "r = requests.post(os.environ[\"MODEL_ENDPOINT\"], data=json.dumps(data), headers={'Content-Type': 'application/json'})\n",
    "\n",
    "# 内容の表示\n",
    "print(f\"Request: {data} \\n\\n\")\n",
    "print(f\"Response: {r.json()}\")"
   ]
  },
  {
   "cell_type": "markdown",
   "id": "a637e91a-5d95-46a8-a85c-f55f1e06f26f",
   "metadata": {},
   "source": [
    "### 7.7 要約\n",
    "\n",
    "* CMLにデプロイされたモデルは、JSONペイロードを持つAPIのエンドポイントとしてコールできます。\n",
    "* ユースケースに応じて、モデルは負荷を許容するために複数のレプリカを持つことができます。\n",
    "* 認証はモデルのアクセスキーと、（必要に応じて）ユーザーのアクセスキーによって行われます。"
   ]
  }
 ],
 "metadata": {
  "kernelspec": {
   "display_name": "Python 3 (ipykernel)",
   "language": "python",
   "name": "python3"
  },
  "language_info": {
   "codemirror_mode": {
    "name": "ipython",
    "version": 3
   },
   "file_extension": ".py",
   "mimetype": "text/x-python",
   "name": "python",
   "nbconvert_exporter": "python",
   "pygments_lexer": "ipython3",
   "version": "3.10.13"
  }
 },
 "nbformat": 4,
 "nbformat_minor": 5
}
