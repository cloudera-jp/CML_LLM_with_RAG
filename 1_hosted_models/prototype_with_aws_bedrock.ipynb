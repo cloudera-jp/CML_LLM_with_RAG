{
 "cells": [
  {
   "cell_type": "markdown",
   "id": "e04ea027-3a19-42cd-bae4-1780112d9d29",
   "metadata": {},
   "source": [
    "# 1. AWS Bedrock を使ってみよう\n",
    "\n",
    "ハンズオンの最初の演習へようこそ！ このノートブックでは、外部でホストされたモデルを call する方法を練習します。  \n",
    "この演習では、AWS の Bedrock サービスと、そこでホストされる Anthropic Claude というモデルを使います。\n",
    "\n",
    "![image](../assets/jupypter-session-bedrock.png)\n",
    "\n",
    "### 1.1 AWS Bedrock のクライアントをインポートしセットアップする\n",
    "`boto3` は、AWS の各種サービスを操作するためのSDKのクライアントです。\n",
    " `get_bedrock_client` という関数は、AWSの[Github レポジトリ](https://github.com/aws-samples/amazon-bedrock-workshop/blob/109ed616fd14c9eb26eda9bef96eb78c490d5ef6/utils/bedrock.py#L13) で提供されています。自分の環境でこのコードを動かす場合は、AWSを自分のものに設定してください。可能であれば、環境変数に設定してください。\n",
    "\n",
    " #### 参考：CML の環境変数を設定する方法  \n",
    "\n",
    "[GUIから設定する場合](https://docs.cloudera.com/machine-learning/cloud/engines/topics/ml-environment-variables.html)  \n",
    "[プログラム上で設定・取得する場合](https://docs.cloudera.com/machine-learning/cloud/engines/topics/ml-accessing-environmental-variables-from-projects.html)"
   ]
  },
  {
   "cell_type": "code",
   "execution_count": 1,
   "id": "58bc9967-bc2d-4ef5-a50d-9c8a27ded0d0",
   "metadata": {
    "tags": []
   },
   "outputs": [],
   "source": [
    "import json\n",
    "import os\n",
    "from typing import Optional\n",
    "import boto3\n",
    "from botocore.config import Config\n",
    "\n",
    "if os.environ.get(\"AWS_ACCESS_KEY_ID\") == \"\":\n",
    "    os.environ[\"AWS_ACCESS_KEY_ID\"] = \"<YOUR-ACCESS-KEY-ID>\"   # Replace this if running in your own environment\n",
    "\n",
    "if os.environ.get(\"AWS_SECRET_ACCESS_KEY\") == \"\":\n",
    "    os.environ[\"AWS_SECRET_ACCESS_KEY\"] = \"<YOUR-SECRET-ACCESS-KEY>\"   # Replace this if running in your own environment\n",
    "\n",
    "# TODO: for a lab, can reduce some of the checks in the below function\n",
    "def get_bedrock_client(\n",
    "    assumed_role: Optional[str] = None,\n",
    "    endpoint_url: Optional[str] = None,\n",
    "    region: Optional[str] = None,\n",
    "):\n",
    "    \"\"\"Create a boto3 client for Amazon Bedrock, with optional configuration overrides\n",
    "\n",
    "    Parameters\n",
    "    ----------\n",
    "    assumed_role :\n",
    "        Optional ARN of an AWS IAM role to assume for calling the Bedrock service. If not\n",
    "        specified, the current active credentials will be used.\n",
    "    endpoint_url :\n",
    "        Optional override for the Bedrock service API Endpoint. If setting this, it should usually\n",
    "        include the protocol i.e. \"https://...\"\n",
    "    region :\n",
    "        Optional name of the AWS Region in which the service should be called (e.g. \"us-east-1\").\n",
    "        If not specified, AWS_REGION or AWS_DEFAULT_REGION environment variable will be used.\n",
    "    \"\"\"\n",
    "    if region is None:\n",
    "        target_region = os.environ.get(\"AWS_REGION\", os.environ.get(\"AWS_DEFAULT_REGION\"))\n",
    "    else:\n",
    "        target_region = region\n",
    "\n",
    "    print(f\"Create new client\\n  Using region: {target_region}\")\n",
    "    session_kwargs = {\"region_name\": target_region}\n",
    "    client_kwargs = {**session_kwargs}\n",
    "\n",
    "    profile_name = os.environ.get(\"AWS_PROFILE\")\n",
    "    if profile_name:\n",
    "        print(f\"  Using profile: {profile_name}\")\n",
    "        session_kwargs[\"profile_name\"] = profile_name\n",
    "\n",
    "    retry_config = Config(\n",
    "        region_name=target_region,\n",
    "        retries={\n",
    "            \"max_attempts\": 10,\n",
    "            \"mode\": \"standard\",\n",
    "        },\n",
    "    )\n",
    "    session = boto3.Session(**session_kwargs)\n",
    "\n",
    "    if assumed_role:\n",
    "        print(f\"  Using role: {assumed_role}\", end='')\n",
    "        sts = session.client(\"sts\")\n",
    "        response = sts.assume_role(\n",
    "            RoleArn=str(assumed_role),\n",
    "            RoleSessionName=\"langchain-llm-1\"\n",
    "        )\n",
    "        print(\" ... successful!\")\n",
    "        client_kwargs[\"aws_access_key_id\"] = response[\"Credentials\"][\"AccessKeyId\"]\n",
    "        client_kwargs[\"aws_secret_access_key\"] = response[\"Credentials\"][\"SecretAccessKey\"]\n",
    "        client_kwargs[\"aws_session_token\"] = response[\"Credentials\"][\"SessionToken\"]\n",
    "\n",
    "    if endpoint_url:\n",
    "        client_kwargs[\"endpoint_url\"] = endpoint_url\n",
    "\n",
    "    bedrock_client = session.client(\n",
    "        service_name=\"bedrock-runtime\",\n",
    "        config=retry_config,\n",
    "        **client_kwargs\n",
    "    )\n",
    "\n",
    "    print(\"boto3 Bedrock client successfully created!\")\n",
    "    print(bedrock_client._endpoint)\n",
    "    return bedrock_client"
   ]
  },
  {
   "cell_type": "markdown",
   "id": "02c45244-202e-487b-8134-a49f84c57b23",
   "metadata": {
    "tags": []
   },
   "source": [
    "上記のコードを実行することで、クライアントが初期化され、特定のAWSのリージョンでサービスが利用できるようになります。\n",
    "\n",
    "Then the client is initialized, binding to AWS region where Bedrock service is available. [2023年10月時点](https://aws.amazon.com/about-aws/whats-new/2023/10/amazon-bedrock-asia-pacific-tokyo-aws-region/)では, サービスが利用可能なリージョンは us-east-1, us-west-2, and ap-northeast-1. のいずれかです。ハンズオンでは、 `us-east-1` をデフォルトとして使います。この設定は、環境変数で上書きすることができます。"
   ]
  },
  {
   "cell_type": "code",
   "execution_count": 2,
   "id": "8444b23e-f063-4923-b12e-54e453529ced",
   "metadata": {
    "tags": []
   },
   "outputs": [
    {
     "name": "stdout",
     "output_type": "stream",
     "text": [
      "Create new client\n",
      "  Using region: us-east-1\n",
      "boto3 Bedrock client successfully created!\n",
      "bedrock-runtime(https://bedrock-runtime.us-east-1.amazonaws.com)\n"
     ]
    }
   ],
   "source": [
    "# Bedrock のクライアントを AWS のクレデンシャルでを使って初期化\n",
    "# AWS 上で Assumed role やカスタムエンドポイントを使っている場合は、get_bedrock_client を見て適宜呼び方を変更してください。\n",
    "if os.environ.get(\"AWS_DEFAULT_REGION\") == \"\":\n",
    "    os.environ[\"AWS_DEFAULT_REGION\"] = \"us-west-2\"\n",
    "\n",
    "boto3_bedrock = get_bedrock_client(\n",
    "      region=os.environ.get(\"AWS_DEFAULT_REGION\", None))"
   ]
  },
  {
   "cell_type": "markdown",
   "id": "1b3118c5-e310-4748-96d8-61f2016deab8",
   "metadata": {},
   "source": [
    "### 1.3 Set desired instruction: Text Summarization\n",
    "\n",
    "### 1.3 指示を与える\n",
    "\n",
    "このノートブックのBedrock モデル（Anthropic の Claude）は、一般的な指示に従うテキスト生成モデルです。つまり、いくつかの指示と入力テキストを提供することで、提供された指示に従った応答を生成できます。\n",
    "\n",
    "たとえば、基盤モデルに対して、テキストの一部を数点の箇条書きで要約するように指示することができます。モデルの指示は通常、定められたパターンに従い、使用されるモデルによって異なります。言い換えれば、異なるモデルに指示を提供する標準的な方法はありません。以下では、[Anthropicの提案された構造](https://docs.anthropic.com/claude/docs/constructing-a-prompt)に従います。たとえば、`Human:` と `Assistant:` のキーワードの使用に注目してください。これらはClaudeの基盤モデルに特有のものです。\n",
    "\n",
    "The bedrock model shown in this notebook (Anthropic's Claude) is a general instruction-following text generation model. Meaning we can provide some instructions and input text to generate a response that will follow the instructions provided. As an example, we will provide instruction to the foundational model to summarize, in a few bullet points, a chunk of a text.  Model instructions typically follow a prescribed pattern and depend on the model used. In other words, the is no standard way to provide insturctions to different models. Below we follow [Anthropic's suggested structure](https://docs.anthropic.com/claude/docs/constructing-a-prompt). For example, note the use of keywords `Human:` and `Assistant:`. These are specific to the Claude foundational model. "
   ]
  },
  {
   "cell_type": "code",
   "execution_count": 3,
   "id": "a09516a0-a82d-4101-a33d-0e101371bcce",
   "metadata": {
    "tags": []
   },
   "outputs": [],
   "source": [
    "instruction_text = \"\"\"人間: XMLタグの <text></text>  で囲まれた部分の文章をようやくしてください。文章中にない情報を追加しないでください。 \n",
    "                             要約は箇条書きとし、箇条書きの数は３つ以内にして、ひとつの箇条書きが完結した文となるようにしてください。\n",
    "                             要約は、「以下は与えられたテキストの簡潔な要約です」という文で初めてください。 \n",
    "                    <text>{{USER_TEXT}}</text>\n",
    "                    アシスタント:\"\"\""
   ]
  },
  {
   "cell_type": "markdown",
   "id": "f31a9f24-193e-4afa-b203-f0d6e4a7bcd6",
   "metadata": {},
   "source": [
    "### 1.4 インプットとなるテキストを設定し、プロンプトを完成させる\n",
    "\n",
    "以下は、要約したいテキストです。  \n",
    "このテキストと指示の長さの合計が、選択したモデルのコンテキストウィンドウのサイズに収まる必要があります。claude の場合は、約9,000語です。"
   ]
  },
  {
   "cell_type": "code",
   "execution_count": 4,
   "id": "06fb50d0-4710-485c-8cc8-94503d868e9b",
   "metadata": {
    "tags": []
   },
   "outputs": [],
   "source": [
    "input_text = '''機械学習は、現代のビジネスが成長し、競争力を維持するために最も重要な機能の1つとなっています。\n",
    "社内プロセスの自動化から、事実上消費されるあらゆる製品の設計、作成、マーケティングプロセスの最適化まで、MLモデルは私たちの仕事や私生活のほぼすべての側面に浸透しています。\n",
    "MLの開発は反復的で複雑ですが、ほとんどのMLツールは機械学習のライフサイクル全体のために構築されていないため、さらに難しくなっています。\n",
    "Cloudera Data Platform上のCloudera Machine Learningは、データサイエンティストがあらゆるAIユースケースに対応する単一の統合プラットフォームでコラボレーションできるようにすることで、価値実現までの時間を短縮します。\n",
    "Cloudera Machine Learningは、アジャイルな実験とプロダクションMLワークフロー向けに構築されており、データ準備からMLOps、予測レポートまで、すべてを管理します。\n",
    "ライフサイクル全体を通じてミッションクリティカルなMLの課題をより迅速かつ俊敏に解決し、ビジネスにとって違いをもたらす可能性のある機会を発見します。\n",
    "各MLワークスペースでは、データサイエンティストのチームが、エンタープライズ・データ・クラウド内で管理されているデータに基づいて、予測アプリケーションを構築するための機械学習モデルの開発、テスト、トレーニング、最終的なデプロイを行うことができます。\n",
    "MLワークスペースは、柔軟で拡張可能なエンジンを通じて、Python、R、Scala、Sparkワークロードの完全なコンテナ化された実行をサポートします。\n",
    "'''\n",
    "\n",
    "# プロンプトの {{USER_TEXT}} 部分を上記のテキストに置き換え、プロンプトを完成させる\n",
    "full_prompt = instruction_text.replace(\"{{USER_TEXT}}\", input_text)"
   ]
  },
  {
   "cell_type": "markdown",
   "id": "e02a5494-4c00-4f8e-b5a3-22d7b1fd4a2b",
   "metadata": {},
   "source": [
    "### 1.5 Bedrock の API リクエストを作成する\n",
    "\n",
    "プロンプトが完成したら、Bedrockに送信するJSONペイロードを生成します。  \n",
    "このAPIリクエストに必要なパラメータとフォーマットは、モデルに固有のものなので、詳細はAWS Bedrockのドキュメントを参照してください。"
   ]
  },
  {
   "cell_type": "code",
   "execution_count": 5,
   "id": "8d66c113-5b2b-4085-a386-783a09c8a4fa",
   "metadata": {
    "tags": []
   },
   "outputs": [
    {
     "name": "stdout",
     "output_type": "stream",
     "text": [
      "Model results successfully retreived\n"
     ]
    }
   ],
   "source": [
    "# モデルが必要とするスキーマに従うJSON\n",
    "body = json.dumps({\"prompt\": full_prompt,\n",
    "             \"max_tokens_to_sample\":4096,\n",
    "             \"temperature\":0.6,\n",
    "             \"top_k\":250,\n",
    "             \"top_p\":1.0,\n",
    "             \"stop_sequences\":[]\n",
    "              })\n",
    "\n",
    "# モデルのIDを指定し、JSONのペイロードを使ってモデルを Call する\n",
    "modelId = 'anthropic.claude-v2:1'\n",
    "response = boto3_bedrock.invoke_model(body=body, modelId=modelId, accept='application/json', contentType='application/json')\n",
    "response_body = json.loads(response.get('body').read())\n",
    "print(\"Model results successfully retreived\")"
   ]
  },
  {
   "cell_type": "markdown",
   "id": "1c529eff-f072-404b-9be0-d3e06b283a9a",
   "metadata": {},
   "source": [
    "### 1.6 結果を確認する\n",
    "レスポンスボディは Claude Model API に固有のものです。詳細はAWS Bedrockのドキュメントを参照してください。"
   ]
  },
  {
   "cell_type": "code",
   "execution_count": 6,
   "id": "fcfb28b2-2874-40f4-adb8-9c09b9905a04",
   "metadata": {
    "tags": []
   },
   "outputs": [
    {
     "name": "stdout",
     "output_type": "stream",
     "text": [
      " Here's a brief summary of the provided text:\n",
      "\n",
      "- Machine learning models have become critical for businesses to grow and stay competitive today by optimizing processes and products.\n",
      "- ML development is complex, and most tools aren't built for the entire machine learning lifecycle. \n",
      "- Cloudera Machine Learning aims to accelerate time-to-value by enabling collaboration on a unified platform for the entire ML lifecycle.\n"
     ]
    }
   ],
   "source": [
    "result = response_body.get('completion')\n",
    "print(result)"
   ]
  },
  {
   "cell_type": "markdown",
   "id": "824ee10b-28e8-4bbd-93cc-0e7e40339c74",
   "metadata": {},
   "source": [
    "**(おまけの演習)** ステップ 1.4 に戻り、別の文章を入力して要約させてみましょう。どんな結果になるでしょうか？"
   ]
  },
  {
   "cell_type": "markdown",
   "id": "88f15aa4-80df-4b23-83f3-519a493c6b32",
   "metadata": {},
   "source": [
    "### 1.7 まとめ\n",
    "\n",
    "* [Cloudera AI](https://docs.cloudera.com/machine-learning/cloud/product/topics/ml-product-overview.html#cdsw_overview) は、サードパーティーのモデルと柔軟に組み合わせて利用することができます。\n",
    "* Cloudera AI では、JupyterLab が エディターとしてデフォルトでサポートされており、RStudio や VSCode のような [カスタムランタイム](https://docs.cloudera.com/machine-learning/cloud/runtimes/topics/)も任意で追加することができます。\n",
    "* 利用者は慣れ親しんだ開発ツールを使って、 LLM ソリューションを手軽に試すことができます。"
   ]
  },
  {
   "cell_type": "markdown",
   "id": "84059805-302c-4e2d-9035-bc6366954c48",
   "metadata": {},
   "source": [
    "### 次のステップ: 演習 2 に進む"
   ]
  },
  {
   "cell_type": "markdown",
   "id": "7c15208b",
   "metadata": {},
   "source": []
  }
 ],
 "metadata": {
  "kernelspec": {
   "display_name": "Python 3 (ipykernel)",
   "language": "python",
   "name": "python3"
  },
  "language_info": {
   "codemirror_mode": {
    "name": "ipython",
    "version": 3
   },
   "file_extension": ".py",
   "mimetype": "text/x-python",
   "name": "python",
   "nbconvert_exporter": "python",
   "pygments_lexer": "ipython3",
   "version": "3.10.13"
  }
 },
 "nbformat": 4,
 "nbformat_minor": 5
}
